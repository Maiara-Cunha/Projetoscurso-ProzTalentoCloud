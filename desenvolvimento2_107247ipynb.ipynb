{
  "nbformat": 4,
  "nbformat_minor": 0,
  "metadata": {
    "colab": {
      "provenance": [],
      "authorship_tag": "ABX9TyN6c+plsSgZ3WqMTWaHWpcN",
      "include_colab_link": true
    },
    "kernelspec": {
      "name": "python3",
      "display_name": "Python 3"
    },
    "language_info": {
      "name": "python"
    }
  },
  "cells": [
    {
      "cell_type": "markdown",
      "metadata": {
        "id": "view-in-github",
        "colab_type": "text"
      },
      "source": [
        "<a href=\"https://colab.research.google.com/github/Maiara-Cunha/Projetoscursopython/blob/main/desenvolvimento2_107247ipynb.ipynb\" target=\"_parent\"><img src=\"https://colab.research.google.com/assets/colab-badge.svg\" alt=\"Open In Colab\"/></a>"
      ]
    },
    {
      "source": [
        "\n",
        "quant_rodas = int(input(\"Digite a Quantidade de Rodas do Veículo: \"))\n",
        "peso_bruto = float(input(\"Digite o Peso Bruto do veículo:\"))\n",
        "quant_pessoas = int(input(\"Digite a Quantidades de Pessoas no Veículo:\"))\n",
        "\n",
        "if quant_rodas == 2 or quant_rodas == 3:\n",
        "    categoria = \"A: Veículos com duas ou três rodas\"\n",
        "elif quant_rodas >= 4 and quant_pessoas <= 8 and peso_bruto <= 3500:\n",
        "    categoria = \"B: Veículos com quatro rodas, que acomodam até oito pessoas e seu peso bruto é até 3500 kg\"\n",
        "elif quant_rodas >= 4 and 3500 < peso_bruto <= 6000:\n",
        "    categoria = \"C: Veículos com quatro rodas ou mais e que seu peso bruto entre 3500 kg e 6000 kg\"\n",
        "elif quant_rodas >= 4 and quant_pessoas > 8:\n",
        "    categoria = \"D: Veículos com quatro rodas ou mais e que acomodam mais de oito pessoas\"\n",
        "elif quant_rodas >= 4 and peso_bruto > 6000:\n",
        "    categoria = \"D: Veículos com Quatro rodas ou mais e que pesam acima de 6000 kg\"\n",
        "else:\n",
        "    categoria = \"Categoria não encontrada!\"\n",
        "\n",
        "\n",
        "print(\"A categoria da Habilitação do Veículo é :\", categoria)"
      ],
      "cell_type": "code",
      "metadata": {
        "colab": {
          "base_uri": "https://localhost:8080/"
        },
        "id": "Q9sLMvf68t7H",
        "outputId": "9fbfa800-c19e-4b82-8862-3287441f7f50"
      },
      "execution_count": null,
      "outputs": [
        {
          "output_type": "stream",
          "name": "stdout",
          "text": [
            "Digite a Quantidade de Rodas do Veículo: 2\n",
            "Digite o Peso Bruto do veículo:4000\n",
            "Digite a Quantidades de Pessoas no Veículo:3\n",
            "A categoria da Habilitação do Veículo é : A: Veículos com duas ou três rodas\n"
          ]
        }
      ]
    }
  ]
}