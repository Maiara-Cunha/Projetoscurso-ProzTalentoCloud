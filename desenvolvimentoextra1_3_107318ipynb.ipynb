{
  "nbformat": 4,
  "nbformat_minor": 0,
  "metadata": {
    "colab": {
      "provenance": [],
      "authorship_tag": "ABX9TyPR4t/kDIqGrvh6PuKMrnSo",
      "include_colab_link": true
    },
    "kernelspec": {
      "name": "python3",
      "display_name": "Python 3"
    },
    "language_info": {
      "name": "python"
    }
  },
  "cells": [
    {
      "cell_type": "markdown",
      "metadata": {
        "id": "view-in-github",
        "colab_type": "text"
      },
      "source": [
        "<a href=\"https://colab.research.google.com/github/Maiara-Cunha/Projetoscurso-ProzTalentoCloud/blob/main/desenvolvimentoextra1_3_107318ipynb.ipynb\" target=\"_parent\"><img src=\"https://colab.research.google.com/assets/colab-badge.svg\" alt=\"Open In Colab\"/></a>"
      ]
    },
    {
      "cell_type": "code",
      "execution_count": 1,
      "metadata": {
        "colab": {
          "base_uri": "https://localhost:8080/"
        },
        "id": "uT4w_nTdY1RV",
        "outputId": "e1aecbea-1c48-48e4-b616-c4932ed0fe5a"
      },
      "outputs": [
        {
          "output_type": "stream",
          "name": "stdout",
          "text": [
            "máscaras faciais\n",
            "batons\n",
            "esmaltes\n",
            "perfumes\n",
            "loções\n",
            "xampus\n",
            "sabonetes\n",
            "delineadores\n",
            "Temos máscaras faciais à venda!\n",
            "Temos batons à venda!\n",
            "Temos esmaltes à venda!\n",
            "Temos perfumes à venda!\n",
            "Temos loções à venda!\n",
            "Temos xampus à venda!\n",
            "Temos sabonetes à venda!\n",
            "Temos delineadores à venda!\n"
          ]
        }
      ],
      "source": [
        "lista_produtos = ['máscaras faciais', 'batons', 'esmaltes', 'perfumes', 'loções', 'xampus', 'sabonetes', 'delineadores']\n",
        "for i in range(len(lista_produtos)):\n",
        "  print(lista_produtos[i])\n",
        "\n",
        "for i in range(len(lista_produtos)):\n",
        "  print('Temos ' + lista_produtos[i] + ' à venda!')"
      ]
    }
  ]
}