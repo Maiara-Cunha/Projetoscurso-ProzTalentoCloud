{
  "nbformat": 4,
  "nbformat_minor": 0,
  "metadata": {
    "colab": {
      "provenance": [],
      "authorship_tag": "ABX9TyPI/JSxwgPMRJjX6pL13sHH",
      "include_colab_link": true
    },
    "kernelspec": {
      "name": "python3",
      "display_name": "Python 3"
    },
    "language_info": {
      "name": "python"
    }
  },
  "cells": [
    {
      "cell_type": "markdown",
      "metadata": {
        "id": "view-in-github",
        "colab_type": "text"
      },
      "source": [
        "<a href=\"https://colab.research.google.com/github/Maiara-Cunha/Projetoscurso-ProzTalentoCloud/blob/main/desenvolvimentoextra1_2_107321ipynb.ipynb\" target=\"_parent\"><img src=\"https://colab.research.google.com/assets/colab-badge.svg\" alt=\"Open In Colab\"/></a>"
      ]
    },
    {
      "cell_type": "markdown",
      "source": [
        "Copie o array apresentado embaixo no seu editor de código, e imprima no terminal: a quantidade de elementos que ele possui, o dado salvo no índice 2, o dado salvo no índice 9, e dado salvo no índice 14.\n",
        "\n",
        "lista_musicos = [ 'Djavan', 'Roberto Carlos', 'Elis Regina', 'Tom Jobim', 'Milton Nascimento', 'Chico Buarque', 'Nara Leão', 'Pitty', 'Simonal', 'Moacir Santos', 'Caetano Veloso', 'Elza Soares', 'Paulinho da Viola', 'Yamandú Costa', 'Gal Costa']"
      ],
      "metadata": {
        "id": "9OxS82M4QYkf"
      }
    },
    {
      "cell_type": "code",
      "source": [
        "\n",
        "lista_musicos = ['Djavan', 'Roberto Carlos', 'Elis Regina', 'Tom Jobim', 'Milton Nascimento', 'Chico Buarque', 'Nara Leão', 'Pitty', 'Simonal',\n",
        "                 'Moacir Santos', 'Caetano Veloso', 'Elza Soares', 'Paulinho da Viola', 'Yamandú Costa', 'Gal Costa']\n",
        "\n",
        "print(\"Quantidade de elementos:\", len(lista_musicos))\n",
        "\n",
        "print(\"Dado no índice 2:\", lista_musicos[2])\n",
        "\n",
        "print(\"Dado no índice 9:\", lista_musicos[9])\n",
        "\n",
        "print(\"Dado no índice 14:\", lista_musicos[14])"
      ],
      "metadata": {
        "colab": {
          "base_uri": "https://localhost:8080/"
        },
        "id": "qtnqYY5sR1NG",
        "outputId": "487ed5d0-47f1-450e-b620-5e164468fc80"
      },
      "execution_count": 5,
      "outputs": [
        {
          "output_type": "stream",
          "name": "stdout",
          "text": [
            "Quantidade de elementos: 15\n",
            "Dado no índice 2: Elis Regina\n",
            "Dado no índice 9: Moacir Santos\n",
            "Dado no índice 14: Gal Costa\n"
          ]
        }
      ]
    }
  ]
}