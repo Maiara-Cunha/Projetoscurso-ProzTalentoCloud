{
  "nbformat": 4,
  "nbformat_minor": 0,
  "metadata": {
    "colab": {
      "provenance": [],
      "authorship_tag": "ABX9TyP163bKruRCk3FPEj9AtEBg",
      "include_colab_link": true
    },
    "kernelspec": {
      "name": "python3",
      "display_name": "Python 3"
    },
    "language_info": {
      "name": "python"
    }
  },
  "cells": [
    {
      "cell_type": "markdown",
      "metadata": {
        "id": "view-in-github",
        "colab_type": "text"
      },
      "source": [
        "<a href=\"https://colab.research.google.com/github/Maiara-Cunha/Projetoscurso-ProzTalentoCloud/blob/main/Desenvolvimento_5_107262.ipynb\" target=\"_parent\"><img src=\"https://colab.research.google.com/assets/colab-badge.svg\" alt=\"Open In Colab\"/></a>"
      ]
    },
    {
      "cell_type": "code",
      "execution_count": null,
      "metadata": {
        "id": "D5eYlbYM3cK4"
      },
      "outputs": [],
      "source": []
    },
    {
      "cell_type": "code",
      "source": [
        "def calculadora():\n",
        "    while True:\n",
        "        print(\"1: Soma\\n2: Subtração\\n3: Multiplicação\\n4: Divisão\\n0: Sair\")\n",
        "        opcao = input(\"Digite o número para a operação correspondente: \")\n",
        "\n",
        "        if opcao == '0':\n",
        "            print(\"Saindo...\")\n",
        "            break\n",
        "        elif opcao not in ['1', '2', '3', '4']:\n",
        "            print(\"Essa opção não existe\")\n",
        "            continue\n",
        "\n",
        "        num1 = float(input(\"Insira o primeiro valor: \"))\n",
        "        num2 = float(input(\"Insira o segundo valor: \"))\n",
        "\n",
        "        if opcao == '1':\n",
        "            resultado = num1 + num2\n",
        "        elif opcao == '2':\n",
        "            resultado = num1 - num2\n",
        "        elif opcao == '3':\n",
        "            resultado = num1 * num2\n",
        "        elif opcao == '4':\n",
        "            if num2!= 0:\n",
        "                resultado = num1 / num2\n",
        "            else:\n",
        "                print(\"Erro: Divisão por zero não é permitida.\")\n",
        "                continue\n",
        "\n",
        "        print(f\"O resultado é: {resultado}\\n\")\n",
        "\n",
        "calculadora()"
      ],
      "metadata": {
        "colab": {
          "base_uri": "https://localhost:8080/"
        },
        "id": "Ou_1uSlP6hgI",
        "outputId": "8902fdab-9876-4c1c-d2ef-b558b1d34d53"
      },
      "execution_count": 3,
      "outputs": [
        {
          "output_type": "stream",
          "name": "stdout",
          "text": [
            "1: Soma\n",
            "2: Subtração\n",
            "3: Multiplicação\n",
            "4: Divisão\n",
            "0: Sair\n",
            "Digite o número para a operação correspondente: 4\n",
            "Insira o primeiro valor: 3\n",
            "Insira o segundo valor: 0\n",
            "Erro: Divisão por zero não é permitida.\n",
            "1: Soma\n",
            "2: Subtração\n",
            "3: Multiplicação\n",
            "4: Divisão\n",
            "0: Sair\n",
            "Digite o número para a operação correspondente: 3\n",
            "Insira o primeiro valor: 3\n",
            "Insira o segundo valor: 3\n",
            "O resultado é: 9.0\n",
            "\n",
            "1: Soma\n",
            "2: Subtração\n",
            "3: Multiplicação\n",
            "4: Divisão\n",
            "0: Sair\n",
            "Digite o número para a operação correspondente: 0\n",
            "Saindo...\n"
          ]
        }
      ]
    }
  ]
}