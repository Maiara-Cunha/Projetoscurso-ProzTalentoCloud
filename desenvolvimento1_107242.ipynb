{
  "nbformat": 4,
  "nbformat_minor": 0,
  "metadata": {
    "colab": {
      "provenance": [],
      "authorship_tag": "ABX9TyOj/j91l7dZE+uSn8S+oW3P",
      "include_colab_link": true
    },
    "kernelspec": {
      "name": "python3",
      "display_name": "Python 3"
    },
    "language_info": {
      "name": "python"
    }
  },
  "cells": [
    {
      "cell_type": "markdown",
      "metadata": {
        "id": "view-in-github",
        "colab_type": "text"
      },
      "source": [
        "<a href=\"https://colab.research.google.com/github/Maiara-Cunha/Projetoscursopython/blob/main/desenvolvimento1_107242.ipynb\" target=\"_parent\"><img src=\"https://colab.research.google.com/assets/colab-badge.svg\" alt=\"Open In Colab\"/></a>"
      ]
    },
    {
      "cell_type": "code",
      "execution_count": null,
      "metadata": {
        "colab": {
          "base_uri": "https://localhost:8080/"
        },
        "id": "WUJikdlHj-0A",
        "outputId": "c1346a49-ecf0-4f9c-a85e-ed10e4c4ce5e"
      },
      "outputs": [
        {
          "output_type": "stream",
          "name": "stdout",
          "text": [
            "True\n"
          ]
        }
      ],
      "source": [
        "nota = 10\n",
        "resultado = nota <= 10\n",
        "print(resultado)"
      ]
    },
    {
      "cell_type": "code",
      "source": [
        "nota = 6\n",
        "faltas = 4\n",
        "resultado = (nota <= 6) and (faltas <= 3)\n",
        "print(resultado)"
      ],
      "metadata": {
        "colab": {
          "base_uri": "https://localhost:8080/"
        },
        "id": "uy_0X5UfmT_0",
        "outputId": "bb1dc78c-2f60-4bc9-cee3-e7cd6ad1436f"
      },
      "execution_count": null,
      "outputs": [
        {
          "output_type": "stream",
          "name": "stdout",
          "text": [
            "False\n"
          ]
        }
      ]
    },
    {
      "cell_type": "code",
      "source": [
        "convidados = 3\n",
        "fumante = False\n",
        "(convidados > 4) or (fumante == True)"
      ],
      "metadata": {
        "colab": {
          "base_uri": "https://localhost:8080/"
        },
        "id": "WFpyrf7_n2lU",
        "outputId": "3f8ecefb-6d2b-4a17-931a-11ed31d6109f"
      },
      "execution_count": null,
      "outputs": [
        {
          "output_type": "execute_result",
          "data": {
            "text/plain": [
              "False"
            ]
          },
          "metadata": {},
          "execution_count": 8
        }
      ]
    },
    {
      "cell_type": "code",
      "source": [
        "dia = \"qua\"\n",
        "((dia == \"sab\") or dia == \"dom\")"
      ],
      "metadata": {
        "colab": {
          "base_uri": "https://localhost:8080/"
        },
        "id": "psAdxu5LpGD9",
        "outputId": "48789b1d-0c44-494e-f25b-647a2baf432b"
      },
      "execution_count": null,
      "outputs": [
        {
          "output_type": "execute_result",
          "data": {
            "text/plain": [
              "False"
            ]
          },
          "metadata": {},
          "execution_count": 9
        }
      ]
    },
    {
      "cell_type": "code",
      "source": [
        "feriado = True\n",
        "not (feriado == False)"
      ],
      "metadata": {
        "colab": {
          "base_uri": "https://localhost:8080/"
        },
        "id": "bMKeFUBsqBuF",
        "outputId": "0edf4b4c-3349-4571-b31b-e39312b0118d"
      },
      "execution_count": null,
      "outputs": [
        {
          "output_type": "execute_result",
          "data": {
            "text/plain": [
              "True"
            ]
          },
          "metadata": {},
          "execution_count": 11
        }
      ]
    },
    {
      "cell_type": "code",
      "source": [
        "dia = \"ter\"\n",
        "feriado = False\n",
        "(dia == \"seg\") or  not (feriado == False)"
      ],
      "metadata": {
        "colab": {
          "base_uri": "https://localhost:8080/"
        },
        "id": "0MbfsSN3qPa0",
        "outputId": "4cbb30f4-a92b-4b37-f5a8-909df4f3642d"
      },
      "execution_count": null,
      "outputs": [
        {
          "output_type": "execute_result",
          "data": {
            "text/plain": [
              "False"
            ]
          },
          "metadata": {},
          "execution_count": 15
        }
      ]
    }
  ]
}