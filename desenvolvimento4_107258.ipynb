{
  "nbformat": 4,
  "nbformat_minor": 0,
  "metadata": {
    "colab": {
      "provenance": [],
      "authorship_tag": "ABX9TyNWpxDly8mVhoHV4eHcDsze",
      "include_colab_link": true
    },
    "kernelspec": {
      "name": "python3",
      "display_name": "Python 3"
    },
    "language_info": {
      "name": "python"
    }
  },
  "cells": [
    {
      "cell_type": "markdown",
      "metadata": {
        "id": "view-in-github",
        "colab_type": "text"
      },
      "source": [
        "<a href=\"https://colab.research.google.com/github/Maiara-Cunha/Projetoscurso-ProzTalentoCloud/blob/main/desenvolvimento4_107258.ipynb\" target=\"_parent\"><img src=\"https://colab.research.google.com/assets/colab-badge.svg\" alt=\"Open In Colab\"/></a>"
      ]
    },
    {
      "cell_type": "markdown",
      "source": [
        "Faça uma função calculadora de dois números com três parâmetros: os dois primeiros serão os números da operação e o terceiro será a entrada que definirá a operação a ser executada. Considera a seguinte definição:\n",
        "1. Soma\n",
        "2. Subtração\n",
        "3. Multiplicação\n",
        "4. Divisão\n",
        "\n",
        "Caso seja inserido um número de operação que não exista, o resultado deverá ser 0."
      ],
      "metadata": {
        "id": "5ojLG2TP-lcs"
      }
    },
    {
      "cell_type": "code",
      "source": [
        "def calculadora(num1, num2, operacao):\n",
        "    # Dicionário para mapear as operações\n",
        "    operacoes = {\n",
        "        'soma': num1 + num2,\n",
        "        'subtracao': num1 - num2,\n",
        "        'multiplicacao': num1 * num2,\n",
        "        'divisao': num1 / num2 if num2!= 0 else 0  # Evita divisão por zero\n",
        "    }\n",
        "\n",
        "    # Retorna o resultado da operação ou 0 se a operação não for reconhecida\n",
        "    return operacoes.get(operacao, 0)\n",
        "\n",
        "# Exemplos de uso da função\n",
        "print(calculadora(10, 5, 'soma'))  # Deve imprimir 15\n",
        "print(calculadora(10, 5, 'subtracao'))  # Deve imprimir 5\n",
        "print(calculadora(10, 5, 'multiplicacao'))  # Deve imprimir 50\n",
        "print(calculadora(10, 5, 'divisao'))  # Deve imprimir 2\n",
        "print(calculadora(10, 5, 'operacao_inexistente'))  # Deve imprimir 0"
      ],
      "metadata": {
        "colab": {
          "base_uri": "https://localhost:8080/"
        },
        "id": "ENwFse8M9xDr",
        "outputId": "e9e1f1f1-0be0-4305-b8bb-0a3d98e02662"
      },
      "execution_count": 6,
      "outputs": [
        {
          "output_type": "stream",
          "name": "stdout",
          "text": [
            "15\n",
            "5\n",
            "50\n",
            "2.0\n",
            "0\n"
          ]
        }
      ]
    },
    {
      "cell_type": "code",
      "source": [
        "def calculadora(num1, num2, operacao):\n",
        "    # Verifica qual operação foi solicitada e executa a operação correspondente\n",
        "    if operacao == 'soma':\n",
        "        return num1 + num2\n",
        "    elif operacao == 'subtracao':\n",
        "        return num1 - num2\n",
        "    elif operacao == 'multiplicacao':\n",
        "        return num1 * num2\n",
        "    elif operacao == 'divisao':\n",
        "        # Evita divisão por zero\n",
        "        if num2!= 0:\n",
        "            return num1 / num2\n",
        "        else:\n",
        "            return 0\n",
        "    else:\n",
        "        # Retorna 0 se a operação não for reconhecida\n",
        "        return 0\n",
        "\n",
        "# Exemplos de uso\n",
        "print(calculadora(10, 5, 'soma'))  # Deve imprimir 15\n",
        "print(calculadora(10, 5, 'subtracao'))  # Deve imprimir 5\n",
        "print(calculadora(10, 5, 'multiplicacao'))  # Deve imprimir 50\n",
        "print(calculadora(10, 5, 'divisao'))  # Deve imprimir 2\n",
        "print(calculadora(10, 5, 'invalida'))  # Deve imprimir 0"
      ],
      "metadata": {
        "colab": {
          "base_uri": "https://localhost:8080/"
        },
        "id": "Vp1RG6HN-b3b",
        "outputId": "91d6c81e-0ff1-4bc4-c689-9016b8b4ee0f"
      },
      "execution_count": 7,
      "outputs": [
        {
          "output_type": "stream",
          "name": "stdout",
          "text": [
            "15\n",
            "5\n",
            "50\n",
            "2.0\n",
            "0\n"
          ]
        }
      ]
    }
  ]
}