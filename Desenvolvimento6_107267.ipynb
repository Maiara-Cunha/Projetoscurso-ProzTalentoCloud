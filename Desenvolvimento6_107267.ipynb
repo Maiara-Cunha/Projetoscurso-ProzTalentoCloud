{
  "nbformat": 4,
  "nbformat_minor": 0,
  "metadata": {
    "colab": {
      "provenance": [],
      "authorship_tag": "ABX9TyPblBKEJ29vbJOW4/7ydypV",
      "include_colab_link": true
    },
    "kernelspec": {
      "name": "python3",
      "display_name": "Python 3"
    },
    "language_info": {
      "name": "python"
    }
  },
  "cells": [
    {
      "cell_type": "markdown",
      "metadata": {
        "id": "view-in-github",
        "colab_type": "text"
      },
      "source": [
        "<a href=\"https://colab.research.google.com/github/Maiara-Cunha/Projetoscurso-ProzTalentoCloud/blob/main/Desenvolvimento6_107267.ipynb\" target=\"_parent\"><img src=\"https://colab.research.google.com/assets/colab-badge.svg\" alt=\"Open In Colab\"/></a>"
      ]
    },
    {
      "cell_type": "code",
      "execution_count": null,
      "metadata": {
        "id": "l7B74yX1Gr5Q"
      },
      "outputs": [],
      "source": [
        "print(\"Qual o seu nome Completo?\")\n",
        "name = input ()\n",
        "\n",
        "executar = True\n",
        "\n",
        "while(executar == True):\n",
        "  print(\"Digite o ano em que você nasceu:\")\n",
        "  try:\n",
        "    ano = int(input())\n",
        "    if (ano < 1922) or (ano > 2021):\n",
        "      print(\"O ano de nascimento precisa ser entre 1922 e 2021\")\n",
        "    else:\n",
        "      idade = 2022 - ano\n",
        "      print (\"você\", name, \"completou ou completará\", idade, \"anos de idade em 2022\")\n",
        "      executar = False\n",
        "  except:\n",
        "    print(\"Digite a idade em numeros.\")\n"
      ]
    }
  ]
}